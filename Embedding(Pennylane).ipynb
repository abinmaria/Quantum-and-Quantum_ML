{
  "nbformat": 4,
  "nbformat_minor": 0,
  "metadata": {
    "colab": {
      "provenance": [],
      "authorship_tag": "ABX9TyPaCJjcwiM3+w04DihIJhp2",
      "include_colab_link": true
    },
    "kernelspec": {
      "name": "python3",
      "display_name": "Python 3"
    },
    "language_info": {
      "name": "python"
    }
  },
  "cells": [
    {
      "cell_type": "markdown",
      "metadata": {
        "id": "view-in-github",
        "colab_type": "text"
      },
      "source": [
        "<a href=\"https://colab.research.google.com/github/abinmaria/Quantum-and-Quantum_ML/blob/main/Embedding(Pennylane).ipynb\" target=\"_parent\"><img src=\"https://colab.research.google.com/assets/colab-badge.svg\" alt=\"Open In Colab\"/></a>"
      ]
    },
    {
      "cell_type": "code",
      "execution_count": 31,
      "metadata": {
        "colab": {
          "base_uri": "https://localhost:8080/"
        },
        "id": "CgpyEWBRPZiG",
        "outputId": "14a904ad-801b-48a7-f628-5663034feb35"
      },
      "outputs": [
        {
          "output_type": "stream",
          "name": "stdout",
          "text": [
            "Requirement already satisfied: pennylane in /usr/local/lib/python3.10/dist-packages (0.38.0)\n",
            "Requirement already satisfied: numpy<2.0 in /usr/local/lib/python3.10/dist-packages (from pennylane) (1.26.4)\n",
            "Requirement already satisfied: scipy in /usr/local/lib/python3.10/dist-packages (from pennylane) (1.13.1)\n",
            "Requirement already satisfied: networkx in /usr/local/lib/python3.10/dist-packages (from pennylane) (3.3)\n",
            "Requirement already satisfied: rustworkx>=0.14.0 in /usr/local/lib/python3.10/dist-packages (from pennylane) (0.15.1)\n",
            "Requirement already satisfied: autograd in /usr/local/lib/python3.10/dist-packages (from pennylane) (1.7.0)\n",
            "Requirement already satisfied: toml in /usr/local/lib/python3.10/dist-packages (from pennylane) (0.10.2)\n",
            "Requirement already satisfied: appdirs in /usr/local/lib/python3.10/dist-packages (from pennylane) (1.4.4)\n",
            "Requirement already satisfied: autoray>=0.6.11 in /usr/local/lib/python3.10/dist-packages (from pennylane) (0.6.12)\n",
            "Requirement already satisfied: cachetools in /usr/local/lib/python3.10/dist-packages (from pennylane) (5.5.0)\n",
            "Requirement already satisfied: pennylane-lightning>=0.38 in /usr/local/lib/python3.10/dist-packages (from pennylane) (0.38.0)\n",
            "Requirement already satisfied: requests in /usr/local/lib/python3.10/dist-packages (from pennylane) (2.32.3)\n",
            "Requirement already satisfied: typing-extensions in /usr/local/lib/python3.10/dist-packages (from pennylane) (4.12.2)\n",
            "Requirement already satisfied: packaging in /usr/local/lib/python3.10/dist-packages (from pennylane) (24.1)\n",
            "Requirement already satisfied: charset-normalizer<4,>=2 in /usr/local/lib/python3.10/dist-packages (from requests->pennylane) (3.3.2)\n",
            "Requirement already satisfied: idna<4,>=2.5 in /usr/local/lib/python3.10/dist-packages (from requests->pennylane) (3.10)\n",
            "Requirement already satisfied: urllib3<3,>=1.21.1 in /usr/local/lib/python3.10/dist-packages (from requests->pennylane) (2.2.3)\n",
            "Requirement already satisfied: certifi>=2017.4.17 in /usr/local/lib/python3.10/dist-packages (from requests->pennylane) (2024.8.30)\n"
          ]
        }
      ],
      "source": [
        "!pip install pennylane\n",
        "\n"
      ]
    },
    {
      "cell_type": "code",
      "source": [
        "import pennylane as qml\n",
        "from pennylane import numpy as np\n"
      ],
      "metadata": {
        "id": "VO5QI1dNPfKv"
      },
      "execution_count": null,
      "outputs": []
    },
    {
      "cell_type": "markdown",
      "source": [
        "[# Basis embedding transform:1,1 to |11>"
      ],
      "metadata": {
        "id": "1xnQvV1VP8cs"
      }
    },
    {
      "cell_type": "code",
      "source": [
        "# basis encoding\n",
        "wires = range(2) # set num_qubits\n",
        "basis_dev = qml.device(\"default.qubit\",wires)\n",
        "\n",
        "@qml.qnode(basis_dev)\n",
        "def basis_encoder(data):\n",
        "  qml.BasisEmbedding(data,wires)\n",
        "  return qml.state()\n"
      ],
      "metadata": {
        "id": "rSZNdPMFPuxo"
      },
      "execution_count": null,
      "outputs": []
    },
    {
      "cell_type": "code",
      "source": [
        "basis_encoder(3)\n"
      ],
      "metadata": {
        "colab": {
          "base_uri": "https://localhost:8080/"
        },
        "id": "nK3UalHzQYQG",
        "outputId": "b058d1ad-06d6-4660-9396-178d2f73b794"
      },
      "execution_count": null,
      "outputs": [
        {
          "output_type": "execute_result",
          "data": {
            "text/plain": [
              "tensor([0.+0.j, 0.+0.j, 0.+0.j, 1.+0.j], requires_grad=True)"
            ]
          },
          "metadata": {},
          "execution_count": 4
        }
      ]
    },
    {
      "cell_type": "markdown",
      "source": [
        "# Amplitude encoding"
      ],
      "metadata": {
        "id": "MNzMG307QpBa"
      }
    },
    {
      "cell_type": "code",
      "source": [
        "# amplitude encoding\n",
        "wires = range(2) # set num_qubits\n",
        "amp_dev = qml.device(\"default.qubit\",wires)\n",
        "\n",
        "@qml.qnode(amp_dev)\n",
        "def amp_encoder(data):\n",
        "  qml.AmplitudeEmbedding(data,wires)\n",
        "  return qml.state()"
      ],
      "metadata": {
        "id": "ht67VNRyQuYs"
      },
      "execution_count": null,
      "outputs": []
    },
    {
      "cell_type": "code",
      "source": [
        "amp_encoder([1/np.sqrt(2),1/np.sqrt(2),0,0])\n"
      ],
      "metadata": {
        "colab": {
          "base_uri": "https://localhost:8080/"
        },
        "id": "sbR1iEYZQy0A",
        "outputId": "3e5ee32a-f673-4130-8b97-9de3512e7c50"
      },
      "execution_count": null,
      "outputs": [
        {
          "output_type": "execute_result",
          "data": {
            "text/plain": [
              "tensor([0.70710678+0.j, 0.70710678+0.j, 0.        +0.j, 0.        +0.j], requires_grad=True)"
            ]
          },
          "metadata": {},
          "execution_count": 6
        }
      ]
    },
    {
      "cell_type": "code",
      "source": [
        "#When size(data)!=2^n\n",
        "wires = range(2) # set num_qubits\n",
        "amp_dev = qml.device(\"default.qubit\",wires)\n",
        "\n",
        "@qml.qnode(amp_dev)\n",
        "def amp_encoder1(data):\n",
        "  qml.AmplitudeEmbedding(data,wires,pad_with=0)\n",
        "  return qml.state()"
      ],
      "metadata": {
        "id": "36ULgGYWQ3ae"
      },
      "execution_count": null,
      "outputs": []
    },
    {
      "cell_type": "code",
      "source": [
        "amp_encoder1([1/np.sqrt(2),0,1/np.sqrt(2)])\n"
      ],
      "metadata": {
        "colab": {
          "base_uri": "https://localhost:8080/"
        },
        "id": "IzxBEQ24RHJ3",
        "outputId": "c1497be8-ad10-4c1c-ab5b-76ed6b93c259"
      },
      "execution_count": null,
      "outputs": [
        {
          "output_type": "execute_result",
          "data": {
            "text/plain": [
              "tensor([0.70710678+0.j, 0.        +0.j, 0.70710678+0.j, 0.        +0.j], requires_grad=True)"
            ]
          },
          "metadata": {},
          "execution_count": 8
        }
      ]
    },
    {
      "cell_type": "code",
      "source": [
        "#When Born's rule is not satisfied\n",
        "wires = range(2) # set num_qubits\n",
        "amp_dev = qml.device(\"default.qubit\",wires)\n",
        "\n",
        "@qml.qnode(amp_dev)\n",
        "def amp_encoder2(data):\n",
        "  qml.AmplitudeEmbedding(data,wires,normalize=True)\n",
        "  return qml.state()"
      ],
      "metadata": {
        "id": "NFEovpVERK2K"
      },
      "execution_count": null,
      "outputs": []
    },
    {
      "cell_type": "code",
      "source": [
        "amp_encoder2([1.5+1j,2.5,1,1])\n"
      ],
      "metadata": {
        "colab": {
          "base_uri": "https://localhost:8080/"
        },
        "id": "S0uooRMCRZJV",
        "outputId": "1d086c06-b419-490e-91e1-c92dc4addc31"
      },
      "execution_count": null,
      "outputs": [
        {
          "output_type": "execute_result",
          "data": {
            "text/plain": [
              "tensor([0.44232587+0.29488391j, 0.73720978+0.j        ,\n",
              "        0.29488391+0.j        , 0.29488391+0.j        ], requires_grad=True)"
            ]
          },
          "metadata": {},
          "execution_count": 10
        }
      ]
    },
    {
      "cell_type": "markdown",
      "source": [
        "# Angle embedding"
      ],
      "metadata": {
        "id": "_aSV03KWRkJ5"
      }
    },
    {
      "cell_type": "code",
      "source": [
        "wires = range(1) # set num_qubits\n",
        "angle_dev = qml.device(\"default.qubit\",wires)\n",
        "\n",
        "@qml.qnode(angle_dev)\n",
        "def angle_encoder(data):\n",
        "  qml.AngleEmbedding(features=data,wires=wires,rotation='X')\n",
        "  return qml.state()"
      ],
      "metadata": {
        "id": "uNDGQa3GRdta"
      },
      "execution_count": null,
      "outputs": []
    },
    {
      "cell_type": "code",
      "source": [
        "angle_encoder([1])\n"
      ],
      "metadata": {
        "colab": {
          "base_uri": "https://localhost:8080/"
        },
        "id": "0kHGqzG1RqEx",
        "outputId": "4fd5afc8-0e32-492d-cb48-282fad6b2fb0"
      },
      "execution_count": null,
      "outputs": [
        {
          "output_type": "execute_result",
          "data": {
            "text/plain": [
              "tensor([0.87758256+0.j        , 0.        -0.47942554j], requires_grad=True)"
            ]
          },
          "metadata": {},
          "execution_count": 12
        }
      ]
    },
    {
      "cell_type": "code",
      "source": [
        "print(qml.draw(qnode=angle_encoder,expansion_strategy=\"device\")([1]))\n"
      ],
      "metadata": {
        "colab": {
          "base_uri": "https://localhost:8080/"
        },
        "id": "tvX6Wf66RwM_",
        "outputId": "009b2c25-393f-49a0-d0a0-e438d9804ae5"
      },
      "execution_count": null,
      "outputs": [
        {
          "output_type": "stream",
          "name": "stdout",
          "text": [
            "0: ──RX(1.00)─┤  State\n"
          ]
        },
        {
          "output_type": "stream",
          "name": "stderr",
          "text": [
            "/usr/local/lib/python3.10/dist-packages/pennylane/drawer/draw.py:37: PennyLaneDeprecationWarning: The 'expansion_strategy' argument is deprecated and will be removed in version 0.39. Instead, use the 'level' argument which offers more flexibility and options.\n",
            "  warnings.warn(\n"
          ]
        }
      ]
    },
    {
      "cell_type": "code",
      "source": [
        "# This is what actually happens\n",
        "np.array([[np.cos(1/2), -1j*np.sin(1/2)],[-1j*np.sin(1/2),np.cos(1/2)]]).dot([1,0])\n"
      ],
      "metadata": {
        "colab": {
          "base_uri": "https://localhost:8080/"
        },
        "id": "0geDmFRmR2p_",
        "outputId": "f69ed7c5-1ee7-4a63-bdf4-c7a26f7343ea"
      },
      "execution_count": null,
      "outputs": [
        {
          "output_type": "execute_result",
          "data": {
            "text/plain": [
              "tensor([0.87758256+0.j        , 0.        -0.47942554j], requires_grad=True)"
            ]
          },
          "metadata": {},
          "execution_count": 14
        }
      ]
    },
    {
      "cell_type": "markdown",
      "source": [
        "# Displacement embedding"
      ],
      "metadata": {
        "id": "ysjxe2kwSAHD"
      }
    },
    {
      "cell_type": "code",
      "source": [
        "wires = range(2)\n",
        "dis_dev = qml.device(\"default.gaussian\",wires)\n",
        "\n",
        "@qml.qnode(dis_dev)\n",
        "def dis_encoder(data):\n",
        "    qml.DisplacementEmbedding(features=data, wires=range(2),method='amplitude',c=0.1)\n",
        "    qml.QuadraticPhase(0.1,wires=1)\n",
        "    return qml.expval(qml.NumberOperator(wires=1))"
      ],
      "metadata": {
        "id": "EVK8DXBJR9ng"
      },
      "execution_count": null,
      "outputs": []
    },
    {
      "cell_type": "code",
      "source": [
        "dis_encoder([2,4])\n"
      ],
      "metadata": {
        "colab": {
          "base_uri": "https://localhost:8080/"
        },
        "id": "N0rz9jLwSNDM",
        "outputId": "869cebdd-7037-4fc8-cba5-91b0cf11d3d8"
      },
      "execution_count": null,
      "outputs": [
        {
          "output_type": "execute_result",
          "data": {
            "text/plain": [
              "array(16.47877626)"
            ]
          },
          "metadata": {},
          "execution_count": 16
        }
      ]
    },
    {
      "cell_type": "code",
      "source": [
        "print(qml.draw(qnode=dis_encoder,expansion_strategy=\"device\")([1,2+0.5j]))\n"
      ],
      "metadata": {
        "colab": {
          "base_uri": "https://localhost:8080/"
        },
        "id": "M6dDRmJrSRdR",
        "outputId": "5f172fa4-6d34-458e-8f71-04b7f6b9dbc2"
      },
      "execution_count": null,
      "outputs": [
        {
          "output_type": "stream",
          "name": "stdout",
          "text": [
            "0: ──D(1.00+0.00j,0.10+0.00j)──────────┤     \n",
            "1: ──D(2.00+0.50j,0.10+0.00j)──P(0.10)─┤  <n>\n"
          ]
        },
        {
          "output_type": "stream",
          "name": "stderr",
          "text": [
            "/usr/local/lib/python3.10/dist-packages/pennylane/drawer/draw.py:37: PennyLaneDeprecationWarning: The 'expansion_strategy' argument is deprecated and will be removed in version 0.39. Instead, use the 'level' argument which offers more flexibility and options.\n",
            "  warnings.warn(\n"
          ]
        }
      ]
    },
    {
      "cell_type": "markdown",
      "source": [
        "# QAOA embedding"
      ],
      "metadata": {
        "id": "J4OYIIxvSff8"
      }
    },
    {
      "cell_type": "code",
      "source": [
        "qaoa_dev = qml.device(\"default.qubit\",wires=range(2))\n",
        "\n",
        "@qml.qnode(qaoa_dev)\n",
        "def qaoa_encoder(data,weights):\n",
        "  qml.QAOAEmbedding(features=data,weights=weights,wires=range(2),local_field=\"Y\")\n",
        "  return qml.state()"
      ],
      "metadata": {
        "id": "y2BiTKwpSpHJ"
      },
      "execution_count": null,
      "outputs": []
    },
    {
      "cell_type": "code",
      "source": [
        "# define features\n",
        "features = [4+2j,5]\n",
        "# get weights\n",
        "shape = qml.QAOAEmbedding.shape(n_layers=2,n_wires=2)\n",
        "print(\"This is the required shape: \",shape)\n",
        "weights = np.random.random(shape)\n",
        "print(\"Have a look at the weights: \")\n",
        "print(weights)"
      ],
      "metadata": {
        "colab": {
          "base_uri": "https://localhost:8080/"
        },
        "id": "3mdp_u7USpqc",
        "outputId": "c92ae49d-0828-4cee-8075-99932a822a07"
      },
      "execution_count": null,
      "outputs": [
        {
          "output_type": "stream",
          "name": "stdout",
          "text": [
            "This is the required shape:  (2, 3)\n",
            "Have a look at the weights: \n",
            "[[0.96589016 0.08356106 0.50335919]\n",
            " [0.15347023 0.60538204 0.91405938]]\n"
          ]
        }
      ]
    },
    {
      "cell_type": "code",
      "source": [
        "qaoa_encoder(data=features,weights=weights)\n"
      ],
      "metadata": {
        "colab": {
          "base_uri": "https://localhost:8080/"
        },
        "id": "sH3t7-q1Sxo3",
        "outputId": "d831234a-603b-4d06-ba31-b93cc8c8ea4a"
      },
      "execution_count": null,
      "outputs": [
        {
          "output_type": "execute_result",
          "data": {
            "text/plain": [
              "tensor([ 3.30670611+2.31377007j, -1.93596589-7.35852993j,\n",
              "         3.16080314+2.12353317j, -2.12678254-6.64637193j], requires_grad=True)"
            ]
          },
          "metadata": {},
          "execution_count": 20
        }
      ]
    },
    {
      "cell_type": "code",
      "source": [
        "print(qml.draw(qnode=qaoa_encoder,expansion_strategy=\"device\")(features,weights))\n"
      ],
      "metadata": {
        "colab": {
          "base_uri": "https://localhost:8080/"
        },
        "id": "x33bpxxkS4wo",
        "outputId": "83073e1f-2267-4c3f-a55e-024039effbd4"
      },
      "execution_count": null,
      "outputs": [
        {
          "output_type": "stream",
          "name": "stdout",
          "text": [
            "0: ──RX(4.00+2.00j)─╭MultiRZ(0.97)──RY(0.08)──RX(4.00+2.00j)─╭MultiRZ(0.15)──RY(0.61)\n",
            "1: ──RX(5.00+0.00j)─╰MultiRZ(0.97)──RY(0.50)──RX(5.00+0.00j)─╰MultiRZ(0.15)──RY(0.91)\n",
            "\n",
            "───RX(4.00+2.00j)─┤ ╭State\n",
            "───RX(5.00+0.00j)─┤ ╰State\n"
          ]
        },
        {
          "output_type": "stream",
          "name": "stderr",
          "text": [
            "/usr/local/lib/python3.10/dist-packages/pennylane/drawer/draw.py:37: PennyLaneDeprecationWarning: The 'expansion_strategy' argument is deprecated and will be removed in version 0.39. Instead, use the 'level' argument which offers more flexibility and options.\n",
            "  warnings.warn(\n"
          ]
        }
      ]
    },
    {
      "cell_type": "markdown",
      "source": [
        "# Train the QAOA embedding"
      ],
      "metadata": {
        "id": "jx-_lIqMTGll"
      }
    },
    {
      "cell_type": "code",
      "source": [
        "qaoa_dev = qml.device(\"default.qubit\",wires=range(2))\n",
        "\n",
        "@qml.qnode(qaoa_dev)\n",
        "def trainable_qaoa_encoder(weights,data):\n",
        "  qml.QAOAEmbedding(weights=weights,features=data,wires=range(2),local_field=\"Y\")\n",
        "  return qml.expval(qml.PauliZ(0))"
      ],
      "metadata": {
        "id": "vLxJSol7TTK3"
      },
      "execution_count": null,
      "outputs": []
    },
    {
      "cell_type": "code",
      "source": [
        "opt = qml.GradientDescentOptimizer()\n",
        "steps = 10\n",
        "for i in range(steps):\n",
        "  weights = opt.step(lambda w: trainable_qaoa_encoder(data=features,weights=w),weights)\n",
        "  print(f\"This is step {i} and weights are {weights}\")"
      ],
      "metadata": {
        "colab": {
          "base_uri": "https://localhost:8080/"
        },
        "id": "TyuxeKtiTTxl",
        "outputId": "ed388f9f-61ca-4d0c-9e79-0df4487e476a"
      },
      "execution_count": null,
      "outputs": [
        {
          "output_type": "stream",
          "name": "stdout",
          "text": [
            "This is step 0 and weights are [[1.01960663 0.0964962  0.50299308]\n",
            " [0.02913511 0.49863393 0.91405938]]\n",
            "This is step 1 and weights are [[ 1.06066483  0.1039053   0.50292541]\n",
            " [-0.10432075  0.38627457  0.91405938]]\n",
            "This is step 2 and weights are [[ 1.08534486  0.10511416  0.50318844]\n",
            " [-0.24266255  0.27056791  0.91405938]]\n",
            "This is step 3 and weights are [[ 1.09126843  0.10017243  0.50391443]\n",
            " [-0.38106002  0.15405151  0.91405938]]\n",
            "This is step 4 and weights are [[ 1.07792225  0.08985593  0.50532339]\n",
            " [-0.514593    0.03924274  0.91405938]]\n",
            "This is step 5 and weights are [[ 1.04674137  0.07548608  0.50767122]\n",
            " [-0.63868295 -0.07161414  0.91405938]]\n",
            "This is step 6 and weights are [[ 1.00074485  0.05864283  0.51117848]\n",
            " [-0.74945636 -0.1767509   0.91405938]]\n",
            "This is step 7 and weights are [[ 0.94386231  0.04086288  0.51596958]\n",
            " [-0.84407222 -0.27503524  0.91405938]]\n",
            "This is step 8 and weights are [[ 0.88017258  0.02340052  0.52204652]\n",
            " [-0.92096732 -0.36605827  0.91405938]]\n",
            "This is step 9 and weights are [[ 0.81328322  0.00710137  0.52930191]\n",
            " [-0.97991683 -0.45009947  0.91405938]]\n"
          ]
        }
      ]
    },
    {
      "cell_type": "markdown",
      "source": [
        "# IQPE embedding"
      ],
      "metadata": {
        "id": "elgUd4eKTiBr"
      }
    },
    {
      "cell_type": "code",
      "source": [
        "iqp_dev = qml.device(\"default.qubit\",wires=range(3))\n",
        "\n",
        "@qml.qnode(iqp_dev)\n",
        "def iqp_encoder(data):\n",
        "  qml.IQPEmbedding(data,wires=range(3),n_repeats=1)\n",
        "  return [qml.expval(qml.PauliZ(q)) for q in range(3)]"
      ],
      "metadata": {
        "id": "niXkGqinTpCB"
      },
      "execution_count": null,
      "outputs": []
    },
    {
      "cell_type": "code",
      "source": [
        "print(qml.draw(qnode=iqp_encoder,expansion_strategy=\"device\")([7,8,9]))\n"
      ],
      "metadata": {
        "colab": {
          "base_uri": "https://localhost:8080/"
        },
        "id": "T2TWFDfDTph6",
        "outputId": "4f368fcb-cc32-4233-9680-aec6217fdf22"
      },
      "execution_count": null,
      "outputs": [
        {
          "output_type": "stream",
          "name": "stdout",
          "text": [
            "0: ──H──RZ(7.00)─╭MultiRZ(56.00)─╭MultiRZ(63.00)─────────────────┤  <Z>\n",
            "1: ──H──RZ(8.00)─╰MultiRZ(56.00)─│───────────────╭MultiRZ(72.00)─┤  <Z>\n",
            "2: ──H──RZ(9.00)─────────────────╰MultiRZ(63.00)─╰MultiRZ(72.00)─┤  <Z>\n"
          ]
        },
        {
          "output_type": "stream",
          "name": "stderr",
          "text": [
            "/usr/local/lib/python3.10/dist-packages/pennylane/drawer/draw.py:37: PennyLaneDeprecationWarning: The 'expansion_strategy' argument is deprecated and will be removed in version 0.39. Instead, use the 'level' argument which offers more flexibility and options.\n",
            "  warnings.warn(\n"
          ]
        }
      ]
    },
    {
      "cell_type": "markdown",
      "source": [
        "# Custom pattern"
      ],
      "metadata": {
        "id": "J2V2I0irTzbB"
      }
    },
    {
      "cell_type": "code",
      "source": [
        "custom_pattern = [[0,1],[0,2],[1,2]]\n",
        "iqp_dev = qml.device(\"default.qubit\",wires=range(3))\n",
        "\n",
        "@qml.qnode(iqp_dev)\n",
        "def custom_iqp_encoder(data):\n",
        "  qml.IQPEmbedding(data,wires=range(3),n_repeats=2,pattern=custom_pattern)\n",
        "  return [qml.expval(qml.PauliZ(q)) for q in range(3)]"
      ],
      "metadata": {
        "id": "fmPSH3nVTtAR"
      },
      "execution_count": null,
      "outputs": []
    },
    {
      "cell_type": "code",
      "source": [
        "print(qml.draw(qnode=custom_iqp_encoder,expansion_strategy=\"device\")([7.5,8+0.5j,9]))\n"
      ],
      "metadata": {
        "colab": {
          "base_uri": "https://localhost:8080/"
        },
        "id": "W4IuSsx3Tybx",
        "outputId": "1e9c3659-0ca6-4599-a4ed-cc5cb0577942"
      },
      "execution_count": null,
      "outputs": [
        {
          "output_type": "stream",
          "name": "stdout",
          "text": [
            "0: ──H──RZ(7.50+0.00j)─╭MultiRZ(60.00+3.75j)─╭MultiRZ(67.50+0.00j)──H───────────────────\n",
            "1: ──H──RZ(8.00+0.50j)─╰MultiRZ(60.00+3.75j)─│─────────────────────╭MultiRZ(72.00+4.50j)\n",
            "2: ──H──RZ(9.00+0.00j)───────────────────────╰MultiRZ(67.50+0.00j)─╰MultiRZ(72.00+4.50j)\n",
            "\n",
            "───RZ(7.50+0.00j)─────────────────╭MultiRZ(60.00+3.75j)─╭MultiRZ(67.50+0.00j)───────────────────────┤\n",
            "───H───────────────RZ(8.00+0.50j)─╰MultiRZ(60.00+3.75j)─│─────────────────────╭MultiRZ(72.00+4.50j)─┤\n",
            "───H───────────────RZ(9.00+0.00j)───────────────────────╰MultiRZ(67.50+0.00j)─╰MultiRZ(72.00+4.50j)─┤\n",
            "\n",
            "   <Z>\n",
            "   <Z>\n",
            "   <Z>\n"
          ]
        }
      ]
    },
    {
      "cell_type": "markdown",
      "source": [
        "# Squeezing embedding"
      ],
      "metadata": {
        "id": "WcY2Aou5T9CE"
      }
    },
    {
      "cell_type": "code",
      "source": [
        "s_dev = qml.device(\"default.gaussian\",wires=range(3))\n",
        "\n",
        "@qml.qnode(s_dev)\n",
        "def s_encoder(data):\n",
        "  qml.SqueezingEmbedding(data,wires=range(3),method='amplitude',c=0.1)\n",
        "  qml.QuadraticPhase(0.1,wires=1)\n",
        "  return qml.expval(qml.NumberOperator(wires=1))\n",
        "\n",
        "\n",
        "print(qml.draw(s_encoder)([4,5,6]))"
      ],
      "metadata": {
        "colab": {
          "base_uri": "https://localhost:8080/"
        },
        "id": "8cRMEhDhT7np",
        "outputId": "ba99dbb9-7811-46a9-a2f0-0cb866bede8a"
      },
      "execution_count": null,
      "outputs": [
        {
          "output_type": "stream",
          "name": "stdout",
          "text": [
            "0: ─╭SqueezingEmbedding(M0)──────────┤     \n",
            "1: ─├SqueezingEmbedding(M0)──P(0.10)─┤  <n>\n",
            "2: ─╰SqueezingEmbedding(M0)──────────┤     \n",
            "\n",
            "M0 = \n",
            "[[4.  0.1]\n",
            " [5.  0.1]\n",
            " [6.  0.1]]\n"
          ]
        }
      ]
    }
  ]
}